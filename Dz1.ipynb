{
  "nbformat": 4,
  "nbformat_minor": 0,
  "metadata": {
    "colab": {
      "provenance": [],
      "toc_visible": true
    },
    "kernelspec": {
      "name": "python3",
      "display_name": "Python 3"
    },
    "language_info": {
      "name": "python"
    }
  },
  "cells": [
    {
      "cell_type": "markdown",
      "source": [],
      "metadata": {
        "id": "mV_DQJI5W1Mi"
      }
    },
    {
      "cell_type": "markdown",
      "source": [
        "## Problem 1"
      ],
      "metadata": {
        "id": "FWIYUJwLW2WP"
      }
    },
    {
      "cell_type": "markdown",
      "metadata": {
        "id": "NiX8ePp0oBGk"
      },
      "source": [
        "Make a tuple containing natural numbers, the square of which is a multiple of 3, 4, but not a multiple of 8 and not exceeding 12345."
      ]
    },
    {
      "cell_type": "code",
      "execution_count": null,
      "metadata": {
        "id": "PzdYBxu7MSIi"
      },
      "outputs": [],
      "source": [
        "ans = a = tuple(i for i in range(1,12346) if i**2 % 3 == 0 and i**2 % 4 == 0 and i**2 % 8 != 0)"
      ]
    },
    {
      "cell_type": "markdown",
      "source": [
        "##Problem 2\n"
      ],
      "metadata": {
        "id": "DCck4FU0XDb_"
      }
    },
    {
      "cell_type": "markdown",
      "source": [
        "Write a function that takes a two-dimensional array and a string as input and returns an array rotated 90 degrees counterclockwise if the string 'left' was passed, and clockwise if the string 'right' was passed.\n",
        "\n"
      ],
      "metadata": {
        "id": "z9UYYwBOPkSJ"
      }
    },
    {
      "cell_type": "code",
      "source": [
        "def rotate(matrix, direction):\n",
        "    if not matrix: #проверка на пустоту\n",
        "        return []\n",
        "    transposed = list(zip(*matrix)) #Транспонирование матрицы\n",
        "    if direction == 'left':\n",
        "        reversed_rows = transposed[::-1] # Возвращает кортеж, поэтому нужно перевести обратно в list\n",
        "        return [list(row) for row in reversed_rows]\n",
        "    elif direction == 'right':\n",
        "        reversed_each_row = [row[::-1] for row in transposed] # Реверсируем каждую строку транспонированной матрицы\n",
        "        return [list(row) for row in reversed_each_row]\n",
        "    else:\n",
        "        raise ValueError(\"Неверное направление. Используйте 'left' или 'right'.\")\n"
      ],
      "metadata": {
        "id": "82X70_LvSBgp"
      },
      "execution_count": 14,
      "outputs": []
    },
    {
      "cell_type": "markdown",
      "source": [
        "##Problem 3"
      ],
      "metadata": {
        "id": "h1GTli5GXK3Y"
      }
    },
    {
      "cell_type": "markdown",
      "source": [
        "Write a function that takes a string as input and returns a dictionary containing the number of occurrences of each character in the string."
      ],
      "metadata": {
        "id": "7PxLMmvnTCaa"
      }
    },
    {
      "cell_type": "code",
      "source": [
        "def char_count(s):\n",
        "    count_dict = {}\n",
        "    for char in s:\n",
        "        count_dict[char] = count_dict.get(char, 0) + 1\n",
        "    return count_dict\n"
      ],
      "metadata": {
        "id": "tKaJpCXvTMly"
      },
      "execution_count": null,
      "outputs": []
    },
    {
      "cell_type": "markdown",
      "source": [
        "##Problem 4"
      ],
      "metadata": {
        "id": "BeNP1kxHVvBz"
      }
    },
    {
      "cell_type": "markdown",
      "metadata": {
        "id": "XS4Seqa9oBGk"
      },
      "source": [
        "### Implementing a Library Management System\n",
        "\n",
        "#### Description\n",
        "\n",
        "You are required to design and implement a system for managing books and users in a library. The system should allow for the management of books (adding, deleting, searching by various criteria) and users (registration, deletion, searching), as well as tracking the history of interactions between them (issuing and returning books).\n",
        "\n",
        "#### Tasks\n",
        "\n",
        "1. **`Book` Class**:\n",
        "   - Attributes: title, author, year of publication, ISBN, number of copies.\n",
        "   - Methods: constructor, methods to get information about the book, method to change the number of copies (when issuing and returning books).\n",
        "\n",
        "2. **`User` Class**:\n",
        "   - Attributes: user name, library card number, list of borrowed books.\n",
        "   - Methods: constructor, methods for user registration, methods for adding and removing books from the borrowed list.\n",
        "\n",
        "3. **`Library` Class**:\n",
        "   - Attributes: list of books, list of users, transaction history (who, when, which book was borrowed and returned).\n",
        "   - Methods: constructor, methods for adding and deleting books and users, methods for issuing and returning books, searching for books and users by various criteria, method to display the transaction history.\n",
        "\n",
        "#### Assignment\n",
        "\n",
        "1. Implement the `Book`, `User`, and `Library` classes with the specified attributes and methods.\n",
        "2. Create several books and users, and add them to the library system.\n",
        "3. Implement scenarios for issuing books to users and their return.\n",
        "4. Display the transaction history to show how books were issued and returned.\n"
      ]
    },
    {
      "cell_type": "code",
      "source": [
        "\n",
        "class Book:\n",
        "    def __init__(self, title, author, year, isbn, copies):\n",
        "        \"\"\"\n",
        "        Конструктор класса Book.\n",
        "        title: Название книги.\n",
        "        author: Автор книги.\n",
        "        year: Год издания.\n",
        "        isbn: Международный стандартный номер книги.\n",
        "        copies: Количество копий книги в библиотеке.\n",
        "        \"\"\"\n",
        "        self.title = title\n",
        "        self.author = author\n",
        "        self.year = year\n",
        "        self.isbn = isbn\n",
        "        self.copies = copies\n",
        "\n",
        "    def get_info(self):\n",
        "        \"\"\"\n",
        "        Возвращает строку с информацией о книге.\n",
        "        \"\"\"\n",
        "        return f\"Title: {self.title}, Author: {self.author}, Year: {self.year}, ISBN: {self.isbn}, Copies: {self.copies}\"\n",
        "\n",
        "    def update_copies(self, change):\n",
        "        \"\"\"\n",
        "        Изменяет количество копий книги.\n",
        "        change: Число, на которое изменяется количество копий\n",
        "                       (отрицательное значение – выдача книги, положительное – возврат).\n",
        "        \"\"\"\n",
        "        if self.copies + change < 0:\n",
        "            print(\"Ошибка: недостаточно копий для выполнения операции.\")\n",
        "        else:\n",
        "            self.copies += change\n",
        "\n",
        "class User:\n",
        "    def __init__(self, name, library_card_number):\n",
        "        \"\"\"\n",
        "        Конструктор класса User.\n",
        "        name: Имя пользователя.\n",
        "        library_card_number: Номер читательского билета.\n",
        "        \"\"\"\n",
        "        self.name = name\n",
        "        self.library_card_number = library_card_number\n",
        "        self.borrowed_books = []  # Список книг, взятых пользователем\n",
        "\n",
        "    def add_borrowed_book(self, book):\n",
        "        \"\"\"\n",
        "        Добавляет книгу в список взятых пользователем.\n",
        "        \"\"\"\n",
        "        self.borrowed_books.append(book)\n",
        "\n",
        "    def remove_borrowed_book(self, book):\n",
        "        \"\"\"\n",
        "        Удаляет книгу из списка взятых пользователем.\n",
        "        \"\"\"\n",
        "        if book in self.borrowed_books:\n",
        "            self.borrowed_books.remove(book)\n",
        "        else:\n",
        "            print(\"Ошибка: книга не найдена в списке взятых книг.\")\n",
        "\n",
        "    def get_info(self):\n",
        "        \"\"\"\n",
        "        Возвращает информацию о пользователе.\n",
        "        \"\"\"\n",
        "        borrowed = [book.title for book in self.borrowed_books]\n",
        "        return f\"Name: {self.name}, Card: {self.library_card_number}, Borrowed books: {borrowed}\"\n",
        "\n",
        "class Library:\n",
        "    def __init__(self):\n",
        "        \"\"\"\n",
        "        Конструктор класса Library.\n",
        "        Инициализирует списки книг, пользователей и историю транзакций.\n",
        "        \"\"\"\n",
        "        self.books = []\n",
        "        self.users = []\n",
        "        self.transaction_history = []\n",
        "\n",
        "    def add_book(self, book):\n",
        "        \"\"\"\n",
        "        Добавляет книгу в библиотеку.\n",
        "        \"\"\"\n",
        "        self.books.append(book)\n",
        "\n",
        "    def remove_book(self, isbn):\n",
        "        \"\"\"\n",
        "        Удаляет книгу из библиотеки по ISBN.\n",
        "        \"\"\"\n",
        "        for book in self.books:\n",
        "            if book.isbn == isbn:\n",
        "                self.books.remove(book)\n",
        "                return\n",
        "        print(\"Ошибка: книга с указанным ISBN не найдена.\")\n",
        "\n",
        "    def add_user(self, user):\n",
        "        \"\"\"\n",
        "        Добавляет пользователя в систему.\n",
        "        \"\"\"\n",
        "        self.users.append(user)\n",
        "\n",
        "    def remove_user(self, library_card_number):\n",
        "        \"\"\"\n",
        "        Удаляет пользователя по номеру читательского билета.\n",
        "        \"\"\"\n",
        "        for user in self.users:\n",
        "            if user.library_card_number == library_card_number:\n",
        "                self.users.remove(user)\n",
        "                return\n",
        "        print(\"Ошибка: пользователь с указанным номером билета не найден.\")\n",
        "\n",
        "    def search_books_by_title(self, title):\n",
        "        \"\"\"\n",
        "        Поиск книг по названию (без учета регистра).\n",
        "        \"\"\"\n",
        "        return [book for book in self.books if title.lower() in book.title.lower()]\n",
        "\n",
        "    def search_books_by_author(self, author):\n",
        "        \"\"\"\n",
        "        Поиск книг по автору (без учета регистра).\n",
        "        \"\"\"\n",
        "        return [book for book in self.books if author.lower() in book.author.lower()]\n",
        "\n",
        "    def search_books_by_year(self, year):\n",
        "        \"\"\"\n",
        "        Поиск книг по году издания.\n",
        "        \"\"\"\n",
        "        return [book for book in self.books if book.year == year]\n",
        "\n",
        "    def search_user_by_name(self, name):\n",
        "        \"\"\"\n",
        "        Поиск пользователя по имени (без учета регистра).\n",
        "        \"\"\"\n",
        "        return [user for user in self.users if name.lower() in user.name.lower()]\n",
        "\n",
        "    def search_user_by_card(self, library_card_number):\n",
        "        \"\"\"\n",
        "        Поиск пользователя по номеру читательского билета.\n",
        "        \"\"\"\n",
        "        for user in self.users:\n",
        "            if user.library_card_number == library_card_number:\n",
        "                return user\n",
        "        return None\n",
        "\n",
        "    def issue_book(self, library_card_number, isbn):\n",
        "        \"\"\"\n",
        "        Выдает книгу пользователю:\n",
        "          - Проверяет наличие пользователя.\n",
        "          - Находит книгу по ISBN.\n",
        "          - Проверяет, что книга доступна (copies > 0).\n",
        "          - Уменьшает количество копий книги и добавляет книгу в список взятых книг пользователя.\n",
        "          - Записывает транзакцию.\n",
        "        \"\"\"\n",
        "        user = self.search_user_by_card(library_card_number)\n",
        "        if not user:\n",
        "            print(\"Ошибка: пользователь не найден.\")\n",
        "            return\n",
        "\n",
        "        # Поиск книги по ISBN\n",
        "        book_to_issue = None\n",
        "        for book in self.books:\n",
        "            if book.isbn == isbn:\n",
        "                book_to_issue = book\n",
        "                break\n",
        "\n",
        "        if not book_to_issue:\n",
        "            print(\"Ошибка: книга не найдена.\")\n",
        "            return\n",
        "\n",
        "        if book_to_issue.copies <= 0:\n",
        "            print(\"Ошибка: книга отсутствует в наличии.\")\n",
        "            return\n",
        "\n",
        "        # Выдаем книгу: уменьшаем количество копий\n",
        "        book_to_issue.update_copies(-1)\n",
        "        user.add_borrowed_book(book_to_issue)\n",
        "\n",
        "        # Записываем транзакцию\n",
        "        transaction = {\n",
        "            \"action\": \"issue\",\n",
        "            \"user\": user.name,\n",
        "            \"library_card_number\": user.library_card_number,\n",
        "            \"book\": book_to_issue.title,\n",
        "            \"isbn\": book_to_issue.isbn,\n",
        "        }\n",
        "        self.transaction_history.append(transaction)\n",
        "        print(f\"Книга '{book_to_issue.title}' выдана пользователю {user.name}.\")\n",
        "\n",
        "    def return_book(self, library_card_number, isbn):\n",
        "        \"\"\"\n",
        "        Обрабатывает возврат книги пользователем:\n",
        "          - Проверяет наличие пользователя.\n",
        "          - Находит книгу по ISBN.\n",
        "          - Проверяет, что книга действительно взята пользователем.\n",
        "          - Увеличивает количество копий книги и удаляет её из списка взятых.\n",
        "          - Записывает транзакцию.\n",
        "        \"\"\"\n",
        "        user = self.search_user_by_card(library_card_number)\n",
        "        if not user:\n",
        "            print(\"Ошибка: пользователь не найден.\")\n",
        "            return\n",
        "\n",
        "        book_to_return = None\n",
        "        for book in self.books:\n",
        "            if book.isbn == isbn:\n",
        "                book_to_return = book\n",
        "                break\n",
        "\n",
        "        if not book_to_return:\n",
        "            print(\"Ошибка: книга не найдена в библиотеке.\")\n",
        "            return\n",
        "\n",
        "        if book_to_return not in user.borrowed_books:\n",
        "            print(\"Ошибка: данный пользователь не брал эту книгу.\")\n",
        "            return\n",
        "\n",
        "        # Обработка возврата: увеличиваем количество копий\n",
        "        book_to_return.update_copies(1)\n",
        "        user.remove_borrowed_book(book_to_return)\n",
        "\n",
        "        # Записываем транзакцию\n",
        "        transaction = {\n",
        "            \"action\": \"return\",\n",
        "            \"user\": user.name,\n",
        "            \"library_card_number\": user.library_card_number,\n",
        "            \"book\": book_to_return.title,\n",
        "            \"isbn\": book_to_return.isbn,\n",
        "        }\n",
        "        self.transaction_history.append(transaction)\n",
        "        print(f\"Книга '{book_to_return.title}' возвращена пользователем {user.name}.\")\n",
        "\n",
        "    def display_transaction_history(self):\n",
        "      print(\"Transaction History:\")\n",
        "      for transaction in self.transaction_history:\n",
        "        print(transaction)\n",
        "\n",
        "# Пример использования системы:\n",
        "if __name__ == \"__main__\":\n",
        "    # Создаем объект библиотеки\n",
        "    library = Library()\n",
        "\n",
        "    # Создаем книги\n",
        "    book1 = Book(\"Война и мир\", \"Лев Толстой\", 1869, \"978-5-389-07427-3\", 5)\n",
        "    book2 = Book(\"Преступление и наказание\", \"Фёдор Достоевский\", 1866, \"978-5-389-07528-4\", 3)\n",
        "    book3 = Book(\"Мастер и Маргарита\", \"Михаил Булгаков\", 1966, \"978-5-389-07629-5\", 2)\n",
        "\n",
        "    # Добавляем книги в библиотеку\n",
        "    library.add_book(book1)\n",
        "    library.add_book(book2)\n",
        "    library.add_book(book3)\n",
        "\n",
        "    # Создаем пользователей\n",
        "    user1 = User(\"Иван Иванов\", \"LC1001\")\n",
        "    user2 = User(\"Пётр Петров\", \"LC1002\")\n",
        "\n",
        "    # Добавляем пользователей в библиотеку\n",
        "    library.add_user(user1)\n",
        "    library.add_user(user2)\n",
        "\n",
        "    # Сценарий: выдача книг пользователям\n",
        "    library.issue_book(\"LC1001\", \"978-5-389-07427-3\")  # Иван берет \"Война и мир\"\n",
        "    library.issue_book(\"LC1002\", \"978-5-389-07528-4\")  # Пётр берет \"Преступление и наказание\"\n",
        "\n",
        "    # Сценарий: возврат книг пользователями\n",
        "    library.return_book(\"LC1001\", \"978-5-389-07427-3\")  # Иван возвращает \"Война и мир\"\n",
        "\n",
        "    # Вывод истории транзакций\n",
        "    library.display_transaction_history()\n"
      ],
      "metadata": {
        "id": "QA-8KnUTVulr",
        "colab": {
          "base_uri": "https://localhost:8080/"
        },
        "outputId": "a4e3b979-2599-41d1-d130-12a60d887a77"
      },
      "execution_count": 13,
      "outputs": [
        {
          "output_type": "stream",
          "name": "stdout",
          "text": [
            "Книга 'Война и мир' выдана пользователю Иван Иванов.\n",
            "Книга 'Преступление и наказание' выдана пользователю Пётр Петров.\n",
            "Книга 'Война и мир' возвращена пользователем Иван Иванов.\n",
            "Transaction History:\n",
            "{'action': 'issue', 'user': 'Иван Иванов', 'library_card_number': 'LC1001', 'book': 'Война и мир', 'isbn': '978-5-389-07427-3'}\n",
            "{'action': 'issue', 'user': 'Пётр Петров', 'library_card_number': 'LC1002', 'book': 'Преступление и наказание', 'isbn': '978-5-389-07528-4'}\n",
            "{'action': 'return', 'user': 'Иван Иванов', 'library_card_number': 'LC1001', 'book': 'Война и мир', 'isbn': '978-5-389-07427-3'}\n"
          ]
        }
      ]
    },
    {
      "cell_type": "markdown",
      "metadata": {
        "id": "0c8zRbSIoBGl"
      },
      "source": [
        "## Problem 5*"
      ]
    },
    {
      "cell_type": "markdown",
      "metadata": {
        "id": "8ltdzRmOoBGl"
      },
      "source": [
        "Explain why list `b` changes after the execution of the following code:\n",
        "\n",
        "```python\n",
        "a = [1, 2, 3]\n",
        "b = a\n",
        "a[0] = 4\n",
        "print(b)\n",
        "```"
      ]
    },
    {
      "cell_type": "markdown",
      "source": [
        "Оператор присваивания b = a не создает копию списка, а просто копирует ссылку,поэтому при изменении a[0] меняется и b[0]. Чтобы избежать этого, нужно скопировать список, например, при помощи метода .copy()"
      ],
      "metadata": {
        "id": "00Oopm4KbPDe"
      }
    },
    {
      "cell_type": "markdown",
      "metadata": {
        "id": "TmXLkc_foBGl"
      },
      "source": [
        "## Problem 6*"
      ]
    },
    {
      "cell_type": "markdown",
      "metadata": {
        "id": "Gn0ibiVCoBGl"
      },
      "source": [
        "Let\n",
        "$$A = \\sum_{i=1}^{10000} \\frac{1}{i^2},\\quad B=\\sum_{i=10000}^{1} \\frac{1}{i^2}.$$\n",
        "Calculate the values of $A$ and $B$ and compare them. What do you observe? Explain why this happens. What is the best way to calculate the value of $\\sum\\limits_{i=1}^{10000} \\dfrac{1}{i^2}$?"
      ]
    },
    {
      "cell_type": "code",
      "source": [
        "# Вычисление A: от 1 до 1000\n",
        "A = 0.0\n",
        "for i in range(1, 10001):\n",
        "    A += 1.0 / (i**2)\n",
        "\n",
        "# Вычисление B: от 1000 до 1\n",
        "B = 0.0\n",
        "for i in range(10000, 0, -1):\n",
        "    B += 1.0 / (i**2)\n",
        "\n",
        "print(\"A =\", A)\n",
        "print(\"B =\", B)\n",
        "print(\"A-B =\", A-B)\n"
      ],
      "metadata": {
        "colab": {
          "base_uri": "https://localhost:8080/"
        },
        "id": "_AtbXqHLdQnP",
        "outputId": "10870845-9d24-42ed-a7e9-d9ceca67613b"
      },
      "execution_count": null,
      "outputs": [
        {
          "output_type": "stream",
          "name": "stdout",
          "text": [
            "A = 1.6448340718480652\n",
            "B = 1.6448340718480596\n",
            "A-B = 5.551115123125783e-15\n"
          ]
        }
      ]
    },
    {
      "cell_type": "markdown",
      "source": [
        "Ответы получаются разными из-за погрешности в вычислении чисел с плавающей точкой. Как правило, лучше складывать сначала более крупные числа, а не оставлять их к концу суммы, чтобы уменьшить погрешность при округлении чисел."
      ],
      "metadata": {
        "id": "WZaV41DmcyWT"
      }
    }
  ]
}